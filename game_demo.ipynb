{
 "cells": [
  {
   "cell_type": "code",
   "execution_count": null,
   "metadata": {},
   "outputs": [],
   "source": [
    "Game Demo"
   ]
  },
  {
   "cell_type": "code",
   "execution_count": 1,
   "metadata": {},
   "outputs": [],
   "source": [
    "import ipywidgets as widgets"
   ]
  },
  {
   "cell_type": "code",
   "execution_count": null,
   "metadata": {},
   "outputs": [],
   "source": []
  },
  {
   "cell_type": "code",
   "execution_count": 30,
   "metadata": {},
   "outputs": [
    {
     "data": {
      "application/vnd.jupyter.widget-view+json": {
       "model_id": "2aa2bbbcf02c44f69cff71405ef0d64d",
       "version_major": 2,
       "version_minor": 0
      },
      "text/plain": [
       "HTML(value=\"<iframe src='https://pengfeiw.github.io/minicode/threejs-rubik' width='600' height='400' \\n       …"
      ]
     },
     "metadata": {},
     "output_type": "display_data"
    },
    {
     "data": {
      "application/vnd.jupyter.widget-view+json": {
       "model_id": "4f09cc09446c43fc9e0f477ba86e4593",
       "version_major": 2,
       "version_minor": 0
      },
      "text/plain": [
       "Textarea(value='', description='Chat', layout=Layout(width='100%'), placeholder='What do you want to change to…"
      ]
     },
     "metadata": {},
     "output_type": "display_data"
    },
    {
     "data": {
      "application/vnd.jupyter.widget-view+json": {
       "model_id": "1704de0da09b4f768ca39fb9d0d0d104",
       "version_major": 2,
       "version_minor": 0
      },
      "text/plain": [
       "Button(description='Submit', style=ButtonStyle())"
      ]
     },
     "metadata": {},
     "output_type": "display_data"
    }
   ],
   "source": [
    "import ipywidgets as widgets\n",
    "from IPython.display import display\n",
    "from IPython.display import Javascript\n",
    "\n",
    "iframe = widgets.HTML(\n",
    "    value=\"\"\"<iframe src='https://pengfeiw.github.io/minicode/threejs-rubik' width='600' height='400' \n",
    "             onclick='this.focus();'></iframe>\"\"\",\n",
    "    layout=widgets.Layout(overflow=\"auto\", border=\"none\", width=\"100%\", height=\"100%\"),\n",
    ")\n",
    "\n",
    "\n",
    "chat = widgets.Textarea(\n",
    "    value=\"\",\n",
    "    placeholder=\"What do you want to change today?\",\n",
    "    description=\"Chat\",\n",
    "    disabled=False,\n",
    "    layout=widgets.Layout(width=\"100%\"),\n",
    ")\n",
    "\n",
    "submit_button = widgets.Button(description=\"Submit\")\n",
    "\n",
    "display(iframe, chat, submit_button)\n",
    "\n",
    "\n",
    "def handle_submit(placeholder):\n",
    "    input_text = chat.value\n",
    "    with open(\"input_for_game.txt\", \"w\") as file:\n",
    "        file.write(input_text)\n",
    "    chat.value = \"\"\n",
    "\n",
    "\n",
    "submit_button.on_click(handle_submit)\n",
    "\n",
    "\n",
    "def update_iframe(new_url):\n",
    "    iframe.value = f\"<iframe src='{new_url}' width='600' height='400'></iframe>\""
   ]
  },
  {
   "cell_type": "code",
   "execution_count": null,
   "metadata": {},
   "outputs": [],
   "source": []
  },
  {
   "cell_type": "code",
   "execution_count": null,
   "metadata": {},
   "outputs": [],
   "source": []
  }
 ],
 "metadata": {
  "kernelspec": {
   "display_name": "Python 3",
   "language": "python",
   "name": "python3"
  },
  "language_info": {
   "codemirror_mode": {
    "name": "ipython",
    "version": 3
   },
   "file_extension": ".py",
   "mimetype": "text/x-python",
   "name": "python",
   "nbconvert_exporter": "python",
   "pygments_lexer": "ipython3",
   "version": "3.11.7"
  }
 },
 "nbformat": 4,
 "nbformat_minor": 2
}
