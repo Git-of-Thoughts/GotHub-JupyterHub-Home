{
 "cells": [
  {
   "cell_type": "code",
   "execution_count": null,
   "metadata": {},
   "outputs": [],
   "source": [
    "Game Demo"
   ]
  },
  {
   "cell_type": "code",
   "execution_count": 1,
   "metadata": {},
   "outputs": [],
   "source": [
    "import ipywidgets as widgets"
   ]
  },
  {
   "cell_type": "code",
   "execution_count": null,
   "metadata": {},
   "outputs": [],
   "source": []
  },
  {
   "cell_type": "code",
   "execution_count": 1,
   "metadata": {},
   "outputs": [
    {
     "data": {
      "application/vnd.jupyter.widget-view+json": {
       "model_id": "5433a6e9c62f43eb821ade92b494c885",
       "version_major": 2,
       "version_minor": 0
      },
      "text/plain": [
       "HTML(value=\"<iframe src='http://localhost:8000' width='600' height='400' \\n             onclick='this.focus();…"
      ]
     },
     "metadata": {},
     "output_type": "display_data"
    },
    {
     "data": {
      "application/vnd.jupyter.widget-view+json": {
       "model_id": "06c85c62e9f24ad6a80d222eae135b8b",
       "version_major": 2,
       "version_minor": 0
      },
      "text/plain": [
       "Textarea(value='', description='Chat', layout=Layout(width='100%'), placeholder='What do you want to change to…"
      ]
     },
     "metadata": {},
     "output_type": "display_data"
    },
    {
     "data": {
      "application/vnd.jupyter.widget-view+json": {
       "model_id": "99be9e8edc744347ad19e22b56cb1ebd",
       "version_major": 2,
       "version_minor": 0
      },
      "text/plain": [
       "Button(description='Submit', style=ButtonStyle())"
      ]
     },
     "metadata": {},
     "output_type": "display_data"
    }
   ],
   "source": [
    "import ipywidgets as widgets\n",
    "from IPython.display import display\n",
    "from IPython.display import Javascript\n",
    "\n",
    "iframe = widgets.HTML(\n",
    "    value=\"\"\"<iframe src='http://localhost:8000' width='600' height='400' \n",
    "             onclick='this.focus();'></iframe>\"\"\",\n",
    "    layout=widgets.Layout(overflow=\"auto\", border=\"none\", width=\"100%\", height=\"100%\"),\n",
    ")\n",
    "\n",
    "\n",
    "chat = widgets.Textarea(\n",
    "    value=\"\",\n",
    "    placeholder=\"What do you want to change today?\",\n",
    "    description=\"Chat\",\n",
    "    disabled=False,\n",
    "    layout=widgets.Layout(width=\"100%\"),\n",
    ")\n",
    "\n",
    "submit_button = widgets.Button(description=\"Submit\")\n",
    "\n",
    "display(iframe, chat, submit_button)\n",
    "\n",
    "\n",
    "def handle_submit(placeholder):\n",
    "    input_text = chat.value\n",
    "    with open(\"input_for_game.txt\", \"w\") as file:\n",
    "        file.write(input_text)\n",
    "    chat.value = \"\"\n",
    "\n",
    "\n",
    "submit_button.on_click(handle_submit)\n",
    "\n",
    "\n",
    "def update_iframe(new_url):\n",
    "    iframe.value = f\"<iframe src='{new_url}' width='600' height='400'></iframe>\""
   ]
  },
  {
   "cell_type": "code",
   "execution_count": null,
   "metadata": {},
   "outputs": [],
   "source": []
  },
  {
   "cell_type": "code",
   "execution_count": null,
   "metadata": {},
   "outputs": [],
   "source": []
  }
 ],
 "metadata": {
  "kernelspec": {
   "display_name": "Python 3",
   "language": "python",
   "name": "python3"
  },
  "language_info": {
   "codemirror_mode": {
    "name": "ipython",
    "version": 3
   },
   "file_extension": ".py",
   "mimetype": "text/x-python",
   "name": "python",
   "nbconvert_exporter": "python",
   "pygments_lexer": "ipython3",
   "version": "3.11.7"
  }
 },
 "nbformat": 4,
 "nbformat_minor": 2
}
