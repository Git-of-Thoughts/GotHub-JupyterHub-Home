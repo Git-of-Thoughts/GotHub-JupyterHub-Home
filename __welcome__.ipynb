{
    "cells": [
        {
            "cell_type": "markdown",
            "metadata": {},
            "source": [
                "# Welcome to GotHub!\n",
                "Your developer friendly GPT, with reduced cost and extended code support!"
            ]
        },
        {
            "cell_type": "markdown",
            "metadata": {},
            "source": [
                "> ⚠️ **Warning**: This notebook will be periodically updated by the GotHub team. Please do not save important work in this notebook."
            ]
        },
        {
            "cell_type": "markdown",
            "metadata": {},
            "source": [
                "## Documentation"
            ]
        },
        {
            "cell_type": "markdown",
            "metadata": {},
            "source": [
                "- [GotHub](https://gothub-docs-gothub.vercel.app/)"
            ]
        },
        {
            "cell_type": "markdown",
            "metadata": {},
            "source": [
                "### Organize by files/foldersgit"
            ]
        },
        {
            "cell_type": "markdown",
            "metadata": {},
            "source": [
                "👈 Use the file system to organize your data!"
            ]
        },
        {
            "cell_type": "markdown",
            "metadata": {},
            "source": [
                "## Use cases"
            ]
        },
        {
            "cell_type": "markdown",
            "metadata": {},
            "source": [
                "👈 Check out the `__examples__` folder for specific use cases!"
            ]
        },
        {
            "cell_type": "markdown",
            "metadata": {},
            "source": [
                "## Subscribe to updates! 👍 No spam, only the good stuff."
            ]
        },
        {
            "cell_type": "markdown",
            "metadata": {},
            "source": [
                "<style>\n",
                "    .social-links-container {\n",
                "        grid-column-gap: 1rem;\n",
                "        align-items: center;\n",
                "        display: flex;\n",
                "    }\n",
                "    .social-link-item {\n",
                "        width: 1.8rem;\n",
                "        justify-content: center;\n",
                "        align-items: center;\n",
                "        transition: opacity .2s;\n",
                "        display: flex;\n",
                "    }\n",
                "</style>\n",
                "<div class=\"footer-bottom\">\n",
                "    <div class=\"social-links-container\">\n",
                "        <a href=\"https://twitter.com/\" target=\"_blank\" class=\"social-link-item w-inline-block\"></a>\n",
                "        <a href=\"https://github.com/Git-of-Thoughts/GotHub-JupyterHub-Home\" target=\"_blank\" class=\"social-link-item w-inline-block\">\n",
                "            <img src=\"https://assets-global.website-files.com/65710cfc3b2a225ccb76120a/6571531d53527fed75fb7362_github.png\" loading=\"lazy\" alt=\"\" width=\"40\">\n",
                "        </a>\n",
                "        <a href=\"https://www.linkedin.com/company/gothubai\" target=\"_blank\" class=\"social-link-item w-inline-block\">\n",
                "            <img src=\"https://assets-global.website-files.com/65710cfc3b2a225ccb76120a/65710cfc3b2a225ccb7612b3_icons8-linkedin-circled.svg\" loading=\"lazy\" alt=\"\" width=\"40\">\n",
                "        </a>\n",
                "        <a href=\"https://discord.com/invite/9rq9CgVvbD\" target=\"_blank\" class=\"social-link-item w-inline-block\">\n",
                "            <img src=\"https://assets-global.website-files.com/65710cfc3b2a225ccb76120a/65710fbf9a8c62b5f684c6b0_discord.png\" loading=\"lazy\" alt=\"\" width=\"40\">\n",
                "        </a>\n",
                "        <a href=\"https://twitter.com/GothubAI\" target=\"_blank\" class=\"social-link-item w-inline-block\">\n",
                "            <img src=\"https://assets-global.website-files.com/65710cfc3b2a225ccb76120a/65710cfc3b2a225ccb7612b2_icons8-twitter.svg\" loading=\"lazy\" alt=\"\" width=\"40\">\n",
                "        </a>\n",
                "    </div>\n",
                "</div>"
            ]
        },
        {
            "cell_type": "code",
            "execution_count": null,
            "metadata": {},
            "outputs": [],
            "source": []
        }
    ],
    "metadata": {
        "kernelspec": {
            "display_name": "ChatGPT",
            "language": "python",
            "name": "python3"
        },
        "language_info": {
            "codemirror_mode": {
                "name": "ipython",
                "version": 3
            },
            "file_extension": ".py",
            "mimetype": "text/x-python",
            "name": "python",
            "nbconvert_exporter": "python",
            "pygments_lexer": "ipython3",
            "version": "3.11.5"
        }
    },
    "nbformat": 4,
    "nbformat_minor": 4
}
