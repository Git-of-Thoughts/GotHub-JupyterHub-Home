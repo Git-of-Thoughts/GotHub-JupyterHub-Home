{
    "metadata": {
        "kernelspec": {
            "name": "mixtral",
            "display_name": "💬 Mixtral 8x7B",
            "language": "python"
        },
        "language_info": {
            "name": "python",
            "mimetype": "text/x-python",
            "file_extension": ".py"
        }
    },
    "nbformat_minor": 4,
    "nbformat": 4,
    "cells": [
        {
            "cell_type": "markdown",
            "source": "# Welcome to GotHub!\nYour developer friendly GPT, with reduced cost and extended code support!",
            "metadata": {}
        },
        {
            "cell_type": "markdown",
            "source": "> ⚠️ **Warning**: This notebook will be periodically updated by the GotHub team. Please do not save important work in this notebook.",
            "metadata": {}
        },
        {
            "cell_type": "markdown",
            "source": "## Documentation",
            "metadata": {}
        },
        {
            "cell_type": "markdown",
            "source": "[🚀 Quick Start](https://gothub-docs-gothub.vercel.app/)",
            "metadata": {}
        },
        {
            "cell_type": "markdown",
            "source": "## Organize by files/folders/git",
            "metadata": {}
        },
        {
            "cell_type": "markdown",
            "source": "👈 Use the file system to organize your data!",
            "metadata": {}
        },
        {
            "cell_type": "markdown",
            "source": "## Use cases",
            "metadata": {}
        },
        {
            "cell_type": "markdown",
            "source": "👈 Check out the `__examples__` folder for specific use cases!",
            "metadata": {}
        },
        {
            "cell_type": "markdown",
            "source": "## Subscribe to updates! 👍 No spam, only the good stuff.",
            "metadata": {}
        },
        {
            "cell_type": "markdown",
            "source": "<style>\n    .social-links-container {\n        grid-column-gap: 1rem;\n        align-items: center;\n        display: flex;\n    }\n    .social-link-item {\n        width: 1.8rem;\n        justify-content: center;\n        align-items: center;\n        transition: opacity .2s;\n        display: flex;\n    }\n</style>\n<div class=\"footer-bottom\">\n    <div class=\"social-links-container\">\n        <a href=\"https://twitter.com/\" target=\"_blank\" class=\"social-link-item w-inline-block\"></a>\n        <a href=\"https://github.com/Git-of-Thoughts/GotHub-JupyterHub-Home\" target=\"_blank\" class=\"social-link-item w-inline-block\">\n            <img src=\"https://assets-global.website-files.com/65710cfc3b2a225ccb76120a/6571531d53527fed75fb7362_github.png\" loading=\"lazy\" alt=\"\" width=\"30\">\n        </a>\n        <a href=\"https://www.linkedin.com/company/gothubai\" target=\"_blank\" class=\"social-link-item w-inline-block\">\n            <img src=\"https://assets-global.website-files.com/65710cfc3b2a225ccb76120a/65710cfc3b2a225ccb7612b3_icons8-linkedin-circled.svg\" loading=\"lazy\" alt=\"\" width=\"30\">\n        </a>\n        <a href=\"https://discord.com/invite/9rq9CgVvbD\" target=\"_blank\" class=\"social-link-item w-inline-block\">\n            <img src=\"https://assets-global.website-files.com/65710cfc3b2a225ccb76120a/65710fbf9a8c62b5f684c6b0_discord.png\" loading=\"lazy\" alt=\"\" width=\"30\">\n        </a>\n        <a href=\"https://twitter.com/GothubAI\" target=\"_blank\" class=\"social-link-item w-inline-block\">\n            <img src=\"https://assets-global.website-files.com/65710cfc3b2a225ccb76120a/65710cfc3b2a225ccb7612b2_icons8-twitter.svg\" loading=\"lazy\" alt=\"\" width=\"30\">\n        </a>\n    </div>\n</div>",
            "metadata": {}
        },
        {
            "cell_type": "code",
            "source": "",
            "metadata": {},
            "execution_count": null,
            "outputs": []
        }
    ]
}
