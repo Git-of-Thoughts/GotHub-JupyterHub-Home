{
    "metadata": {
        "language_info": {
            "name": "python",
            "mimetype": "text/x-python",
            "file_extension": ".py"
        },
        "kernelspec": {
            "name": "mixtral",
            "display_name": "💬 Mixtral 8x7B",
            "language": "python"
        }
    },
    "nbformat_minor": 4,
    "nbformat": 4,
    "cells": [
        {
            "cell_type": "markdown",
            "source": "# Compare image models",
            "metadata": {}
        },
        {
            "cell_type": "markdown",
            "source": "> ⚠️ **Warning**: This notebook will be periodically updated by the GotHub team. Please do not save important work in this notebook.",
            "metadata": {}
        },
        {
            "cell_type": "code",
            "source": "with dall-e-3\n\nCreate an image of a fully-grown domestic cat sitting calmly, its furry coat gleaming in the sun.\nThe cat is an unusual mix of colors, with half of its face showing off sleek black fur while the other half is eye-catching orange.\nIts intelligent eyes are of a mesmeric green shade.\nThe cat's tail is majestically fluffed up, adding an additional element of beauty to the scene.\nIn the background, let there be a typical suburban setting with red-bricked houses and nicely manicured gardens.",
            "metadata": {
                "tags": [],
                "vscode": {
                    "languageId": "plaintext"
                },
                "trusted": true
            },
            "execution_count": 1,
            "outputs": [
                {
                    "output_type": "display_data",
                    "data": {
                        "text/markdown": "**DALL·E 3:**"
                    },
                    "metadata": {}
                },
                {
                    "output_type": "display_data",
                    "data": {
                        "text/markdown": "Generating image..."
                    },
                    "metadata": {}
                },
                {
                    "output_type": "display_data",
                    "data": {
                        "text/markdown": "![Generate an image of a fully-grown domestic cat sitting in a serene posture. The cat's fur coat shines under sunlight with an interesting mix of colors; half of its face is colored with sleek black fur while the other half showcases bright orange. Its eyes, full of intelligence, shimmer with a hypnotic green shade. The cat's tail is fluffed up, making it look even more magnificent. Provide a typical suburban backdrop with red-bricked houses and well-maintained gardens.](https://raw.githubusercontent.com/Git-of-Thoughts/GotHub-JupyterHub-Home/main/__examples__/.images/img-nmb5EY7gxdTRki2CCrZwjqpg.png)"
                    },
                    "metadata": {}
                },
                {
                    "output_type": "display_data",
                    "data": {
                        "text/markdown": "> Create an image of a fully-grown domestic cat sitting contentedly, bathed in sunlight, its coat shining brilliantly. This unique feline boasts a coat of unusual coloration, with one half of its face covered in sleek black fur while the other half is adorned with vibrant orange. Its eyes, a captivating shade of green, seem to be filled with intelligence. The cat's tail, fluffed up in an impressive display, adds an extra dash of charm to the overall image. The scene is set against the backdrop of a classic suburban neighborhood featuring red-bricked houses and well-maintained, lush green gardens."
                    },
                    "metadata": {}
                }
            ]
        },
        {
            "cell_type": "code",
            "source": "with sdxl\n\nCreate an image of a fully-grown domestic cat sitting calmly, its furry coat gleaming in the sun.\nThe cat is an unusual mix of colors, with half of its face showing off sleek black fur while the other half is eye-catching orange.\nIts intelligent eyes are of a mesmeric green shade.\nThe cat's tail is majestically fluffed up, adding an additional element of beauty to the scene.\nIn the background, let there be a typical suburban setting with red-bricked houses and nicely manicured gardens.",
            "metadata": {
                "trusted": true,
                "tags": []
            },
            "execution_count": 2,
            "outputs": [
                {
                    "output_type": "display_data",
                    "data": {
                        "text/markdown": "**Stable Diffusion XL:**"
                    },
                    "metadata": {}
                },
                {
                    "output_type": "display_data",
                    "data": {
                        "text/markdown": "Generating image..."
                    },
                    "metadata": {}
                },
                {
                    "output_type": "display_data",
                    "data": {
                        "text/markdown": "![Create an image of a fully-grown domestic cat sitting calmly, its furry coat gleaming in the sun.\nThe cat is an unusual mix of colors, with half of its face showing off sleek black fur while the other half is eye-catching orange.\nIts intelligent eyes are of a mesmeric green shade.\nThe cat's tail is majestically fluffed up, adding an additional element of beauty to the scene.\nIn the background, let there be a typical suburban setting with red-bricked houses and nicely manicured gardens.](https://raw.githubusercontent.com/Git-of-Thoughts/GotHub-JupyterHub-Home/main/__examples__/.images/replicate-prediction-e45ctwlbhfz7df2sfzwep5q73i.png)"
                    },
                    "metadata": {}
                },
                {
                    "output_type": "display_data",
                    "data": {
                        "text/markdown": "> Create an image of a fully-grown domestic cat sitting calmly, its furry coat gleaming in the sun.\nThe cat is an unusual mix of colors, with half of its face showing off sleek black fur while the other half is eye-catching orange.\nIts intelligent eyes are of a mesmeric green shade.\nThe cat's tail is majestically fluffed up, adding an additional element of beauty to the scene.\nIn the background, let there be a typical suburban setting with red-bricked houses and nicely manicured gardens."
                    },
                    "metadata": {}
                }
            ]
        },
        {
            "cell_type": "code",
            "source": "",
            "metadata": {},
            "execution_count": null,
            "outputs": []
        }
    ]
}
