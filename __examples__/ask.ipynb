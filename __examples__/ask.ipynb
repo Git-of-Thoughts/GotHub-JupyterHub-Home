{
    "metadata": {
        "language_info": {
            "name": "python",
            "mimetype": "text/x-python",
            "file_extension": ".py"
        },
        "kernelspec": {
            "name": "mixtral",
            "display_name": "💬 Mixtral 8x7B",
            "language": "python"
        }
    },
    "nbformat_minor": 4,
    "nbformat": 4,
    "cells": [
        {
            "cell_type": "markdown",
            "source": "# Ask",
            "metadata": {}
        },
        {
            "cell_type": "markdown",
            "source": "> ⚠️ **Warning**: This notebook will be periodically updated by the GotHub team. Please do not save important work in this notebook.",
            "metadata": {}
        },
        {
            "cell_type": "markdown",
            "source": "- You can use `as code` as a first-line magic to run the cell as Python.\n- You can import the function `ask` from the `got` library to talk to language models.",
            "metadata": {}
        },
        {
            "cell_type": "code",
            "source": "as code\n\nfrom got import ask\n\nresponse = ask(\"What is the meaning of life?\")\nprint(\"Length of response:\", len(response))",
            "metadata": {
                "tags": [],
                "vscode": {
                    "languageId": "plaintext"
                },
                "trusted": true
            },
            "execution_count": 1,
            "outputs": [
                {
                    "name": "stdout",
                    "text": "𝗠𝗶𝘅𝘁𝗿𝗮𝗹 𝟴𝘅𝟳𝗕:\n The meaning of life is a philosophical and metaphysical question related to the significance of living or existence in general. Many different people, cultures, and religions have different beliefs about the purpose and meaning of life. Some people believe that the meaning of life is to seek happiness, knowledge, or personal fulfillment, while others believe that it is to serve a higher power or to contribute to the betterment of humanity. Ultimately, the meaning of life is a subjective and personal belief that may be different for each individual. It is a question that each person must answer for themselves, based on their own experiences, values, and beliefs.\n\nLength of response: 670\n",
                    "output_type": "stream"
                }
            ]
        },
        {
            "cell_type": "code",
            "source": "",
            "metadata": {},
            "execution_count": null,
            "outputs": []
        }
    ]
}
