{
 "cells": [
  {
   "cell_type": "markdown",
   "id": "b9bc3d26-3f32-4f5f-af2e-1bb912041af2",
   "metadata": {},
   "source": [
    "# Use custom library"
   ]
  },
  {
   "cell_type": "markdown",
   "id": "fbba4067-25f0-4719-ba0b-6462083d47bf",
   "metadata": {},
   "source": [
    "> ⚠️ **Warning**: This notebook will be periodically updated by the GotHub team. Please do not save important work in this notebook."
   ]
  },
  {
   "cell_type": "markdown",
   "id": "d0d09d5a-a915-4266-b445-396ea0a9d9a7",
   "metadata": {},
   "source": [
    "You can write your helper functions/classes/variables in `HOME/lib`, and import it as a Python package."
   ]
  },
  {
   "cell_type": "code",
   "execution_count": 1,
   "id": "cc56903a-c5a5-4dbf-9fb6-ac3da6d91c3b",
   "metadata": {
    "tags": []
   },
   "outputs": [
    {
     "data": {
      "text/markdown": [
       "\n",
       "# Custom library\n",
       "\n",
       "Write your helper functions/classes/variables here (in `HOME/lib`)\n"
      ],
      "text/plain": [
       "<IPython.core.display.Markdown object>"
      ]
     },
     "metadata": {},
     "output_type": "display_data"
    }
   ],
   "source": [
    "as code\n",
    "\n",
    "import lib\n",
    "\n",
    "from IPython.display import display, Markdown\n",
    "display(Markdown(lib.__doc__))"
   ]
  },
  {
   "cell_type": "code",
   "execution_count": null,
   "id": "7f8d1a1f-2175-4625-96ab-0447059a0875",
   "metadata": {},
   "outputs": [],
   "source": []
  }
 ],
 "metadata": {
  "kernelspec": {
   "display_name": "💬 Mixtral 8x7B",
   "language": "python",
   "name": "mixtral"
  },
  "language_info": {
   "file_extension": ".py",
   "mimetype": "text/x-python",
   "name": "python"
  }
 },
 "nbformat": 4,
 "nbformat_minor": 5
}
