{
 "cells": [
  {
   "cell_type": "markdown",
   "metadata": {},
   "source": [
    "# Compare chat models"
   ]
  },
  {
   "cell_type": "markdown",
   "metadata": {},
   "source": [
    "> ⚠️ **Warning**: This notebook will be periodically updated by the GotHub team. Please do not save important work in this notebook."
   ]
  },
  {
   "cell_type": "code",
   "execution_count": 1,
   "metadata": {
    "tags": [],
    "vscode": {
     "languageId": "plaintext"
    }
   },
   "outputs": [
    {
     "data": {
      "text/markdown": [
       "**ChatGPT 4:**"
      ]
     },
     "metadata": {},
     "output_type": "display_data"
    },
    {
     "name": "stdout",
     "output_type": "stream",
     "text": []
    },
    {
     "name": "stdout",
     "output_type": "stream",
     "text": [
      "Sure, here's a simple representation:\n",
      "\n",
      "```\n",
      ":-)\n",
      "```\n",
      "\n",
      "Please remember that ASCII art is quite limited in its detail and complexity."
     ]
    }
   ],
   "source": [
    "with gpt-4\n",
    "as new chat\n",
    "\n",
    "Draw me a human face as an ASCII art."
   ]
  },
  {
   "cell_type": "code",
   "execution_count": 2,
   "metadata": {
    "tags": []
   },
   "outputs": [
    {
     "data": {
      "text/markdown": [
       "**ChatGPT 3.5:**"
      ]
     },
     "metadata": {},
     "output_type": "display_data"
    },
    {
     "name": "stdout",
     "output_type": "stream",
     "text": []
    },
    {
     "name": "stdout",
     "output_type": "stream",
     "text": [
      "Certainly! Here's an ASCII art representation of a human face:\n",
      "\n",
      "```\n",
      "  .-\"\"\"\"\"\"-.\n",
      " /          \\\n",
      "|            |\n",
      "|  o      o  |\n",
      "|     ∆      |\n",
      "|    ---     |\n",
      " \\          /\n",
      "  '-......-'\n",
      "```\n",
      "\n",
      "Note: ASCII art is dependent on the font and spacing of the text, so it may not align perfectly on all devices or applications."
     ]
    }
   ],
   "source": [
    "with gpt-3.5\n",
    "as new chat\n",
    "\n",
    "Draw me a human face as an ASCII art."
   ]
  },
  {
   "cell_type": "code",
   "execution_count": 3,
   "metadata": {
    "tags": []
   },
   "outputs": [
    {
     "data": {
      "text/markdown": [
       "**Mixtral 8x7B:**"
      ]
     },
     "metadata": {},
     "output_type": "display_data"
    },
    {
     "name": "stdout",
     "output_type": "stream",
     "text": [
      " Here'…  sorry it's not perfect, but I'll do my best!\n",
      "\n",
      "    _____\n",
      "   /     \\\n",
      "  /       \\\n",
      " /_________\\\\\n",
      "/           \\\n",
      "\\           /\n",
      " \\_____/    /\n",
      "    |    |\n",
      "    |    |\n",
      "\n",
      "Hope you like it! ASCII art is quite a challenge."
     ]
    }
   ],
   "source": [
    "with mixtral\n",
    "as new chat\n",
    "\n",
    "Draw me a human face as an ASCII art."
   ]
  },
  {
   "cell_type": "code",
   "execution_count": 4,
   "metadata": {
    "tags": []
   },
   "outputs": [
    {
     "data": {
      "text/markdown": [
       "**Llama 2 (70B):**"
      ]
     },
     "metadata": {},
     "output_type": "display_data"
    },
    {
     "name": "stdout",
     "output_type": "stream",
     "text": [
      "  Sure, here's a simple human face in ASCII art:\n",
      "\n",
      " /_/\\\n",
      "( o.o )\n",
      " > ^ <\n",
      "\n",
      "I hope you like it!"
     ]
    }
   ],
   "source": [
    "with llama-2\n",
    "as new chat\n",
    "\n",
    "Draw me a human face as an ASCII art."
   ]
  },
  {
   "cell_type": "code",
   "execution_count": null,
   "metadata": {},
   "outputs": [],
   "source": []
  }
 ],
 "metadata": {
  "kernelspec": {
   "display_name": "💬 ChatGPT 4",
   "language": "python",
   "name": "python3"
  },
  "language_info": {
   "file_extension": ".py",
   "mimetype": "text/x-python",
   "name": "python"
  }
 },
 "nbformat": 4,
 "nbformat_minor": 4
}
